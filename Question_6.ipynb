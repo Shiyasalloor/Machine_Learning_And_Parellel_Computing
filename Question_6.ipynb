{
  "nbformat": 4,
  "nbformat_minor": 0,
  "metadata": {
    "colab": {
      "provenance": [],
      "authorship_tag": "ABX9TyPm4VF18NaEsLlqKv6NkDxa",
      "include_colab_link": true
    },
    "kernelspec": {
      "name": "python3",
      "display_name": "Python 3"
    },
    "language_info": {
      "name": "python"
    }
  },
  "cells": [
    {
      "cell_type": "markdown",
      "metadata": {
        "id": "view-in-github",
        "colab_type": "text"
      },
      "source": [
        "<a href=\"https://colab.research.google.com/github/Shiyasalloor/Machine_Learning_And_Parellel_Computing/blob/main/Question_6.ipynb\" target=\"_parent\"><img src=\"https://colab.research.google.com/assets/colab-badge.svg\" alt=\"Open In Colab\"/></a>"
      ]
    },
    {
      "cell_type": "code",
      "execution_count": 1,
      "metadata": {
        "id": "d3E_hGNaVz8p"
      },
      "outputs": [],
      "source": [
        "import pandas as pd\n",
        "import numpy as np\n",
        "from sklearn.metrics.pairwise import cosine_similarity\n",
        "from scipy.spatial.distance import euclidean\n",
        "from sklearn.metrics import mean_squared_error, precision_score, recall_score, f1_score\n",
        "from math import sqrt\n",
        "import seaborn as sns\n",
        "import matplotlib.pyplot as plt"
      ]
    },
    {
      "cell_type": "code",
      "source": [
        "# Load the MovieLens dataset\n",
        "!wget -nc https://files.grouplens.org/datasets/movielens/ml-latest-small.zip\n",
        "!unzip -n ml-latest-small.zip"
      ],
      "metadata": {
        "colab": {
          "base_uri": "https://localhost:8080/"
        },
        "id": "1PIW6dU7V9fO",
        "outputId": "3c592424-84bb-4455-d1db-0a0168fa26e5"
      },
      "execution_count": 2,
      "outputs": [
        {
          "output_type": "stream",
          "name": "stdout",
          "text": [
            "--2025-03-25 08:07:47--  https://files.grouplens.org/datasets/movielens/ml-latest-small.zip\n",
            "Resolving files.grouplens.org (files.grouplens.org)... 128.101.65.152\n",
            "Connecting to files.grouplens.org (files.grouplens.org)|128.101.65.152|:443... connected.\n",
            "HTTP request sent, awaiting response... 200 OK\n",
            "Length: 978202 (955K) [application/zip]\n",
            "Saving to: ‘ml-latest-small.zip’\n",
            "\n",
            "ml-latest-small.zip 100%[===================>] 955.28K  3.24MB/s    in 0.3s    \n",
            "\n",
            "2025-03-25 08:07:48 (3.24 MB/s) - ‘ml-latest-small.zip’ saved [978202/978202]\n",
            "\n",
            "Archive:  ml-latest-small.zip\n",
            "   creating: ml-latest-small/\n",
            "  inflating: ml-latest-small/links.csv  \n",
            "  inflating: ml-latest-small/tags.csv  \n",
            "  inflating: ml-latest-small/ratings.csv  \n",
            "  inflating: ml-latest-small/README.txt  \n",
            "  inflating: ml-latest-small/movies.csv  \n"
          ]
        }
      ]
    },
    {
      "cell_type": "code",
      "source": [
        "ratings = pd.read_csv(\"ml-latest-small/ratings.csv\")\n",
        "movies = pd.read_csv(\"ml-latest-small/movies.csv\")"
      ],
      "metadata": {
        "id": "YuYyn34mWAH-"
      },
      "execution_count": 3,
      "outputs": []
    },
    {
      "cell_type": "code",
      "source": [
        "# Merge datasets\n",
        "data = pd.merge(ratings, movies, on='movieId')\n",
        "print(data.head())"
      ],
      "metadata": {
        "colab": {
          "base_uri": "https://localhost:8080/"
        },
        "id": "25a1LDkxWCid",
        "outputId": "da0f9200-9983-45da-c416-b6fde8ea92a9"
      },
      "execution_count": 4,
      "outputs": [
        {
          "output_type": "stream",
          "name": "stdout",
          "text": [
            "   userId  movieId  rating  timestamp                        title  \\\n",
            "0       1        1     4.0  964982703             Toy Story (1995)   \n",
            "1       1        3     4.0  964981247      Grumpier Old Men (1995)   \n",
            "2       1        6     4.0  964982224                  Heat (1995)   \n",
            "3       1       47     5.0  964983815  Seven (a.k.a. Se7en) (1995)   \n",
            "4       1       50     5.0  964982931   Usual Suspects, The (1995)   \n",
            "\n",
            "                                        genres  \n",
            "0  Adventure|Animation|Children|Comedy|Fantasy  \n",
            "1                               Comedy|Romance  \n",
            "2                        Action|Crime|Thriller  \n",
            "3                             Mystery|Thriller  \n",
            "4                       Crime|Mystery|Thriller  \n"
          ]
        }
      ]
    },
    {
      "cell_type": "code",
      "source": [
        "# Create User-Item Matrix\n",
        "user_item_matrix = data.pivot_table(index='userId', columns='title', values='rating')"
      ],
      "metadata": {
        "id": "b1bYgrW-WFT4"
      },
      "execution_count": 5,
      "outputs": []
    },
    {
      "cell_type": "code",
      "source": [
        "# Fill NaN with 0 for similarity calculations\n",
        "user_item_matrix_filled = user_item_matrix.fillna(0)"
      ],
      "metadata": {
        "id": "-Z9y9CHGWGdH"
      },
      "execution_count": 6,
      "outputs": []
    },
    {
      "cell_type": "code",
      "source": [
        "# Compute User Similarity (Cosine)\n",
        "user_similarity = cosine_similarity(user_item_matrix_filled)\n",
        "user_similarity_df = pd.DataFrame(user_similarity, index=user_item_matrix.index, columns=user_item_matrix.index)"
      ],
      "metadata": {
        "id": "Rhn7oauVWJhr"
      },
      "execution_count": 7,
      "outputs": []
    },
    {
      "cell_type": "code",
      "source": [
        "# Compute Item Similarity (Cosine)\n",
        "item_similarity = cosine_similarity(user_item_matrix_filled.T)\n",
        "item_similarity_df = pd.DataFrame(item_similarity, index=user_item_matrix.columns, columns=user_item_matrix.columns)"
      ],
      "metadata": {
        "id": "0CZpYeayWNu9"
      },
      "execution_count": 8,
      "outputs": []
    },
    {
      "cell_type": "code",
      "source": [
        "def get_user_based_recommendations(user_id, num_recommendations=5):\n",
        "    similar_users = user_similarity_df[user_id].sort_values(ascending=False).index[1:6]\n",
        "    user_ratings = user_item_matrix.loc[similar_users].mean()\n",
        "    user_ratings = user_ratings[user_ratings > 0]\n",
        "    recommended_movies = user_ratings.sort_values(ascending=False).head(num_recommendations)\n",
        "    return recommended_movies"
      ],
      "metadata": {
        "id": "7kHMsiWqWQdq"
      },
      "execution_count": 9,
      "outputs": []
    },
    {
      "cell_type": "code",
      "source": [
        "def get_item_based_recommendations(movie_title, num_recommendations=5):\n",
        "    similar_items = item_similarity_df[movie_title].sort_values(ascending=False)[1:num_recommendations+1]\n",
        "    return similar_items"
      ],
      "metadata": {
        "id": "nRD11xtyWRdi"
      },
      "execution_count": 10,
      "outputs": []
    },
    {
      "cell_type": "code",
      "source": [
        "# Hybrid Recommender System\n",
        "def hybrid_recommendation(user_id, movie_title, num_recommendations=5):\n",
        "    user_recs = get_user_based_recommendations(user_id, num_recommendations)\n",
        "    item_recs = get_item_based_recommendations(movie_title, num_recommendations)\n",
        "    hybrid_recs = pd.concat([user_recs, item_recs]).sort_values(ascending=False).head(num_recommendations)\n",
        "    return hybrid_recs"
      ],
      "metadata": {
        "id": "7AWR6r9pWU6-"
      },
      "execution_count": 11,
      "outputs": []
    },
    {
      "cell_type": "code",
      "source": [
        "# Evaluation Metrics\n",
        "def evaluate_recommendations(y_true, y_pred):\n",
        "    precision = precision_score(y_true, y_pred, average='micro')\n",
        "    recall = recall_score(y_true, y_pred, average='micro')\n",
        "    f1 = f1_score(y_true, y_pred, average='micro')\n",
        "    return precision, recall, f1\n"
      ],
      "metadata": {
        "id": "DRkvxS4FWWGq"
      },
      "execution_count": 12,
      "outputs": []
    },
    {
      "cell_type": "code",
      "source": [
        "# Example Recommendations\n",
        "print(\"User-based recommendations:\")\n",
        "print(get_user_based_recommendations(user_id=1))"
      ],
      "metadata": {
        "colab": {
          "base_uri": "https://localhost:8080/"
        },
        "id": "MdHvmGlkWY9l",
        "outputId": "738890e8-86ce-4fb4-9e8a-111473385c95"
      },
      "execution_count": 13,
      "outputs": [
        {
          "output_type": "stream",
          "name": "stdout",
          "text": [
            "User-based recommendations:\n",
            "title\n",
            "Flash Gordon (1980)           5.0\n",
            "General, The (1926)           5.0\n",
            "Alien Nation (1988)           5.0\n",
            "Godfather, The (1972)         5.0\n",
            "Waiting for Guffman (1996)    5.0\n",
            "dtype: float64\n"
          ]
        }
      ]
    },
    {
      "cell_type": "code",
      "source": [
        "print(\"Item-based recommendations:\")\n",
        "print(get_item_based_recommendations(movie_title='Toy Story (1995)'))\n"
      ],
      "metadata": {
        "colab": {
          "base_uri": "https://localhost:8080/"
        },
        "id": "7kzlNJlaWgFi",
        "outputId": "8c9c24b3-403f-45c6-9d06-565e8b1c7a3d"
      },
      "execution_count": 14,
      "outputs": [
        {
          "output_type": "stream",
          "name": "stdout",
          "text": [
            "Item-based recommendations:\n",
            "title\n",
            "Toy Story 2 (1999)                           0.572601\n",
            "Jurassic Park (1993)                         0.565637\n",
            "Independence Day (a.k.a. ID4) (1996)         0.564262\n",
            "Star Wars: Episode IV - A New Hope (1977)    0.557388\n",
            "Forrest Gump (1994)                          0.547096\n",
            "Name: Toy Story (1995), dtype: float64\n"
          ]
        }
      ]
    },
    {
      "cell_type": "code",
      "source": [
        "print(\"Hybrid recommendations:\")\n",
        "print(hybrid_recommendation(user_id=1, movie_title='Toy Story (1995)'))"
      ],
      "metadata": {
        "colab": {
          "base_uri": "https://localhost:8080/"
        },
        "id": "lbMQS6QsWjzb",
        "outputId": "9f416289-08e0-45c6-ad6e-18c5bb06485b"
      },
      "execution_count": 15,
      "outputs": [
        {
          "output_type": "stream",
          "name": "stdout",
          "text": [
            "Hybrid recommendations:\n",
            "title\n",
            "Flash Gordon (1980)           5.0\n",
            "General, The (1926)           5.0\n",
            "Alien Nation (1988)           5.0\n",
            "Godfather, The (1972)         5.0\n",
            "Waiting for Guffman (1996)    5.0\n",
            "dtype: float64\n"
          ]
        }
      ]
    },
    {
      "cell_type": "code",
      "source": [
        "# Example Evaluation\n",
        "y_true = [1, 1, 0, 1, 0]  # Ground truth (actual liked movies)\n",
        "y_pred = [1, 0, 1, 1, 1]  # Predicted recommendations\n",
        "precision, recall, f1 = evaluate_recommendations(y_true, y_pred)\n",
        "print(f\"Precision: {precision}, Recall: {recall}, F1-score: {f1}\")"
      ],
      "metadata": {
        "colab": {
          "base_uri": "https://localhost:8080/"
        },
        "id": "tZC2s5xsWpPZ",
        "outputId": "dd8bbbe8-73f4-4b33-8594-9588a6a4a1ef"
      },
      "execution_count": 16,
      "outputs": [
        {
          "output_type": "stream",
          "name": "stdout",
          "text": [
            "Precision: 0.4, Recall: 0.4, F1-score: 0.4\n"
          ]
        }
      ]
    }
  ]
}