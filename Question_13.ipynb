{
  "nbformat": 4,
  "nbformat_minor": 0,
  "metadata": {
    "colab": {
      "provenance": [],
      "authorship_tag": "ABX9TyNd563mUwtFAq6L7jogcw6J",
      "include_colab_link": true
    },
    "kernelspec": {
      "name": "python3",
      "display_name": "Python 3"
    },
    "language_info": {
      "name": "python"
    }
  },
  "cells": [
    {
      "cell_type": "markdown",
      "metadata": {
        "id": "view-in-github",
        "colab_type": "text"
      },
      "source": [
        "<a href=\"https://colab.research.google.com/github/Shiyasalloor/Machine_Learning_And_Parellel_Computing/blob/main/Question_13.ipynb\" target=\"_parent\"><img src=\"https://colab.research.google.com/assets/colab-badge.svg\" alt=\"Open In Colab\"/></a>"
      ]
    },
    {
      "cell_type": "code",
      "execution_count": 1,
      "metadata": {
        "id": "8wJ9IBPfb47e"
      },
      "outputs": [],
      "source": [
        "from sklearn.datasets import load_iris\n",
        "from sklearn.model_selection import train_test_split, cross_val_score\n",
        "from sklearn.ensemble import BaggingClassifier, AdaBoostClassifier, StackingClassifier\n",
        "from sklearn.metrics import accuracy_score, precision_score, recall_score, f1_score\n",
        "from sklearn.linear_model import LogisticRegression\n",
        "from sklearn.svm import SVC\n",
        "from sklearn.tree import DecisionTreeClassifier\n",
        "from sklearn.ensemble import RandomForestClassifier, GradientBoostingClassifier\n",
        "from sklearn.naive_bayes import GaussianNB\n",
        "from sklearn.neighbors import KNeighborsClassifier\n",
        "from sklearn.discriminant_analysis import LinearDiscriminantAnalysis"
      ]
    },
    {
      "cell_type": "code",
      "source": [
        "# Load the Iris dataset\n",
        "iris = load_iris()\n",
        "X, y = iris.data, iris.target\n",
        "X_train, X_test, y_train, y_test = train_test_split(X, y, test_size=0.3, random_state=42)"
      ],
      "metadata": {
        "id": "ntQL1YHScBZW"
      },
      "execution_count": 2,
      "outputs": []
    },
    {
      "cell_type": "code",
      "source": [
        "# List of classifiers to evaluate\n",
        "classifiers = {\n",
        "    \"LogisticRegression\": LogisticRegression(max_iter=200),\n",
        "    \"SVC\": SVC(probability=True),\n",
        "    \"DecisionTree\": DecisionTreeClassifier(),\n",
        "    \"RandomForest\": RandomForestClassifier(),\n",
        "    \"GradientBoosting\": GradientBoostingClassifier(),\n",
        "    \"GaussianNB\": GaussianNB(),\n",
        "    \"KNeighbors\": KNeighborsClassifier(),\n",
        "    \"LDA\": LinearDiscriminantAnalysis()\n",
        "}\n"
      ],
      "metadata": {
        "id": "WKzn-X7xcGey"
      },
      "execution_count": 3,
      "outputs": []
    },
    {
      "cell_type": "code",
      "source": [
        "# Evaluate classifiers\n",
        "scores = {}\n",
        "for name, clf in classifiers.items():\n",
        "    clf.fit(X_train, y_train)\n",
        "    y_pred = clf.predict(X_test)\n",
        "    scores[name] = {\n",
        "        \"Accuracy\": accuracy_score(y_test, y_pred),\n",
        "        \"Precision\": precision_score(y_test, y_pred, average='macro'),\n",
        "        \"Recall\": recall_score(y_test, y_pred, average='macro'),\n",
        "        \"F1-Score\": f1_score(y_test, y_pred, average='macro')\n",
        "    }"
      ],
      "metadata": {
        "id": "qnY1paVicHrP"
      },
      "execution_count": 4,
      "outputs": []
    },
    {
      "cell_type": "code",
      "source": [
        "# Sort classifiers by accuracy and select top 4\n",
        "sorted_classifiers = sorted(scores.items(), key=lambda x: x[1][\"Accuracy\"], reverse=True)\n",
        "top_classifiers = [name for name, _ in sorted_classifiers[:4]]\n",
        "print(\"Top 4 classifiers:\", top_classifiers)\n",
        "\n",
        "# Apply ensemble methods\n",
        "ensemble_results = {}"
      ],
      "metadata": {
        "colab": {
          "base_uri": "https://localhost:8080/"
        },
        "id": "zfHvSSB6cM9K",
        "outputId": "a902971d-6d9d-4f23-feb8-e9b8e5e7e9c4"
      },
      "execution_count": 5,
      "outputs": [
        {
          "output_type": "stream",
          "name": "stdout",
          "text": [
            "Top 4 classifiers: ['LogisticRegression', 'SVC', 'DecisionTree', 'RandomForest']\n"
          ]
        }
      ]
    },
    {
      "cell_type": "code",
      "source": [
        "# Bagging\n",
        "for clf_name in top_classifiers:\n",
        "    clf = classifiers[clf_name]\n",
        "    bagging = BaggingClassifier(estimator=clf, n_estimators=10, random_state=42)\n",
        "    bagging.fit(X_train, y_train)\n",
        "    y_pred = bagging.predict(X_test)\n",
        "    ensemble_results[f\"Bagging ({clf_name})\"] = accuracy_score(y_test, y_pred)"
      ],
      "metadata": {
        "id": "n-_oe2WZcN-U"
      },
      "execution_count": 6,
      "outputs": []
    },
    {
      "cell_type": "code",
      "source": [
        "# Boosting\n",
        "for clf_name in top_classifiers:\n",
        "    clf = classifiers[clf_name]\n",
        "    boosting = AdaBoostClassifier(estimator=clf, n_estimators=10, random_state=42)\n",
        "    boosting.fit(X_train, y_train)\n",
        "    y_pred = boosting.predict(X_test)\n",
        "    ensemble_results[f\"Boosting ({clf_name})\"] = accuracy_score(y_test, y_pred)"
      ],
      "metadata": {
        "id": "QWF7sJoMcQ_V"
      },
      "execution_count": 7,
      "outputs": []
    },
    {
      "cell_type": "code",
      "source": [
        "# Stacking\n",
        "stacking_estimators = [(name, classifiers[name]) for name in top_classifiers]\n",
        "stacking = StackingClassifier(estimators=stacking_estimators, final_estimator=LogisticRegression())\n",
        "stacking.fit(X_train, y_train)\n",
        "y_pred = stacking.predict(X_test)\n",
        "ensemble_results[\"Stacking\"] = accuracy_score(y_test, y_pred)"
      ],
      "metadata": {
        "id": "WSuie25AcTnO"
      },
      "execution_count": 8,
      "outputs": []
    },
    {
      "cell_type": "code",
      "source": [
        "# Display results\n",
        "print(\"Ensemble Results:\")\n",
        "for method, score in ensemble_results.items():\n",
        "    print(f\"{method}: {score:.4f}\")"
      ],
      "metadata": {
        "colab": {
          "base_uri": "https://localhost:8080/"
        },
        "id": "u_vEoAWCcWoK",
        "outputId": "9e5959f6-562b-4087-acba-6a8846ea15f3"
      },
      "execution_count": 9,
      "outputs": [
        {
          "output_type": "stream",
          "name": "stdout",
          "text": [
            "Ensemble Results:\n",
            "Bagging (LogisticRegression): 1.0000\n",
            "Bagging (SVC): 1.0000\n",
            "Bagging (DecisionTree): 1.0000\n",
            "Bagging (RandomForest): 1.0000\n",
            "Boosting (LogisticRegression): 0.8222\n",
            "Boosting (SVC): 0.5556\n",
            "Boosting (DecisionTree): 1.0000\n",
            "Boosting (RandomForest): 1.0000\n",
            "Stacking: 1.0000\n"
          ]
        }
      ]
    }
  ]
}